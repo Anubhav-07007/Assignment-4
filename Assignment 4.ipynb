{
 "cells": [
  {
   "cell_type": "code",
   "execution_count": 4,
   "id": "99a34322",
   "metadata": {},
   "outputs": [
    {
     "data": {
      "text/plain": [
       "list"
      ]
     },
     "execution_count": 4,
     "metadata": {},
     "output_type": "execute_result"
    }
   ],
   "source": [
    "# 1. What exactly is []?\n",
    "\n",
    "# its a empty list\n",
    "\n",
    "a=[]\n",
    "type(a)"
   ]
  },
  {
   "cell_type": "code",
   "execution_count": 10,
   "id": "985f93d1",
   "metadata": {},
   "outputs": [
    {
     "name": "stdout",
     "output_type": "stream",
     "text": [
      "[2, 4, 'Hello', 8, 10]\n"
     ]
    }
   ],
   "source": [
    "# 2. In a list of values stored in a variable called spam, how would you assign the value 'hello' to third value; as the\n",
    "#third value? (Assume [2, 4, 6, 8, 10] are in spam.)\n",
    "\n",
    "spam=[2,4,6,8,10]\n",
    "\n",
    "spam[2]='Hello'\n",
    "\n",
    "print(spam)"
   ]
  },
  {
   "cell_type": "code",
   "execution_count": 23,
   "id": "4b020798",
   "metadata": {},
   "outputs": [
    {
     "name": "stdout",
     "output_type": "stream",
     "text": [
      "d\n",
      "c\n"
     ]
    }
   ],
   "source": [
    "# lets pretend the spam includes the list ['a','b','c','d'] for the next three quries\n",
    "\n",
    "#What is the value of spam[int(int('3'* 2) / 11)]?\n",
    "\n",
    "spam=['a','b','c','d']\n",
    "\n",
    "a=spam[int(int('3'* 2) / 11)]\n",
    "\n",
    "\n",
    "print(spam[-1])\n",
    "print(spam[-2])\n",
    "\n"
   ]
  },
  {
   "cell_type": "code",
   "execution_count": 31,
   "id": "1e22aa10",
   "metadata": {},
   "outputs": [
    {
     "name": "stdout",
     "output_type": "stream",
     "text": [
      "2\n",
      "[3, 14, 11, 'cat', True, 99]\n"
     ]
    }
   ],
   "source": [
    "bacon=[3,14,'cat',11,'cat',True]\n",
    "\n",
    "print(bacon.index('cat'))  # function take first occurence index only.\n",
    "\n",
    "bacon.append(99) # append alwasy add value in end of the string\n",
    "\n",
    "bacon.remove('cat') # remove function delete the first occurence\n",
    "\n",
    "print(bacon)"
   ]
  },
  {
   "cell_type": "code",
   "execution_count": 35,
   "id": "e0bc74e5",
   "metadata": {},
   "outputs": [
    {
     "name": "stdout",
     "output_type": "stream",
     "text": [
      "[1, 2, 3, 4, 5, 6]\n"
     ]
    },
    {
     "data": {
      "text/plain": [
       "[1, 2, 3, 1, 2, 3]"
      ]
     },
     "execution_count": 35,
     "metadata": {},
     "output_type": "execute_result"
    }
   ],
   "source": [
    "l1=[1,2,3]\n",
    "l2=[4,5,6]\n",
    "\n",
    "l=l1+l2\n",
    "print(l)   # list concatination \n",
    "\n",
    "l1*2       # list replication"
   ]
  },
  {
   "cell_type": "code",
   "execution_count": 39,
   "id": "98ce3f89",
   "metadata": {},
   "outputs": [
    {
     "name": "stdout",
     "output_type": "stream",
     "text": [
      "[1, 2, 3, 4, 100]\n",
      "['anubhav', 1, 2, 3, 4, 100]\n"
     ]
    }
   ],
   "source": [
    "# differenct b/w append and insert \n",
    "\n",
    "# append alwasy add the element in the last. \n",
    "\n",
    "# insert alwasy add the element of index postion number\n",
    "\n",
    "\n",
    "l=[1,2,3,4]\n",
    "\n",
    "l.append(100)\n",
    "\n",
    "print(l)\n",
    "\n",
    "l.insert(0,'anubhav')\n",
    "\n",
    "print(l)"
   ]
  },
  {
   "cell_type": "code",
   "execution_count": 50,
   "id": "e5daecc6",
   "metadata": {},
   "outputs": [
    {
     "name": "stdout",
     "output_type": "stream",
     "text": [
      "[1, 2, 3, 4, 5]\n",
      "[2, 3, 4]\n",
      "[12, 1, 2, 2, 2]\n"
     ]
    }
   ],
   "source": [
    "# What are the two methods for removing items from a list?\n",
    "\n",
    "# pop and remove\n",
    "\n",
    "# pop : by default reomve element from last. but we can also use index .\n",
    "# remove : remove element from list\n",
    "\n",
    "# pop without index \n",
    "l=[1,2,3,4,5,6]\n",
    "l.pop()\n",
    "print(l)\n",
    "\n",
    "\n",
    "# pop with index\n",
    "l1=[1,2,3,4]\n",
    "l1.pop(0)\n",
    "print(l1)\n",
    "\n",
    "# remove\n",
    "l2=[12,23,1,2,2,2]\n",
    "l2.remove(23)\n",
    "print(l2)"
   ]
  },
  {
   "cell_type": "code",
   "execution_count": 53,
   "id": "9a20a084",
   "metadata": {},
   "outputs": [
    {
     "name": "stdout",
     "output_type": "stream",
     "text": [
      "1\n",
      "a\n"
     ]
    }
   ],
   "source": [
    "# Describe how list values and string values are identical.\n",
    "\n",
    "# list and string value store in same way from 0th position . we can extract the value 1 by 1\n",
    "\n",
    "\n",
    "l=[1,2,3,4]\n",
    "a='anubhav'\n",
    "\n",
    "print(l[0])\n",
    "print(a[0])"
   ]
  },
  {
   "cell_type": "code",
   "execution_count": 60,
   "id": "a186f2d9",
   "metadata": {},
   "outputs": [
    {
     "name": "stdout",
     "output_type": "stream",
     "text": [
      "['anubahv', 2, 3, 4]\n"
     ]
    },
    {
     "ename": "TypeError",
     "evalue": "'tuple' object does not support item assignment",
     "output_type": "error",
     "traceback": [
      "\u001b[1;31m---------------------------------------------------------------------------\u001b[0m",
      "\u001b[1;31mTypeError\u001b[0m                                 Traceback (most recent call last)",
      "\u001b[1;32m~\\AppData\\Local\\Temp/ipykernel_1236/3798923500.py\u001b[0m in \u001b[0;36m<module>\u001b[1;34m\u001b[0m\n\u001b[0;32m     10\u001b[0m \u001b[0mprint\u001b[0m\u001b[1;33m(\u001b[0m\u001b[0ml\u001b[0m\u001b[1;33m)\u001b[0m\u001b[1;33m\u001b[0m\u001b[1;33m\u001b[0m\u001b[0m\n\u001b[0;32m     11\u001b[0m \u001b[1;33m\u001b[0m\u001b[0m\n\u001b[1;32m---> 12\u001b[1;33m \u001b[0mt\u001b[0m\u001b[1;33m[\u001b[0m\u001b[1;36m0\u001b[0m\u001b[1;33m]\u001b[0m\u001b[1;33m=\u001b[0m\u001b[1;34m'anubhav'\u001b[0m\u001b[1;33m\u001b[0m\u001b[1;33m\u001b[0m\u001b[0m\n\u001b[0m",
      "\u001b[1;31mTypeError\u001b[0m: 'tuple' object does not support item assignment"
     ]
    }
   ],
   "source": [
    "# What&#39;s the difference between tuples and lists?\n",
    "\n",
    "# majaor differenc is tuple is imutable object. we can't the value inside the tuple\n",
    "\n",
    "l=[1,2,3,4]\n",
    "t=(1,2,3,4)\n",
    "\n",
    "l[0]='anubahv'\n",
    "\n",
    "print(l)\n",
    "\n",
    "t[0]='anubhav'"
   ]
  },
  {
   "cell_type": "code",
   "execution_count": 61,
   "id": "675cc988",
   "metadata": {},
   "outputs": [],
   "source": [
    "# How do you type a tuple value that only contains the integer 42?\n",
    "\n",
    "t=(42)"
   ]
  },
  {
   "cell_type": "code",
   "execution_count": 66,
   "id": "f4ad3138",
   "metadata": {},
   "outputs": [
    {
     "name": "stdout",
     "output_type": "stream",
     "text": [
      "(1, 2, 3, 4, 5)\n",
      "[1, 2, 3, 4, 5]\n"
     ]
    }
   ],
   "source": [
    "# How do you get a list value's tuple form? How do you get a tuple value's list form?\n",
    "\n",
    "\n",
    "l=[1,2,3,4,5]\n",
    "a=tuple(l)\n",
    "\n",
    "print(a)\n",
    "\n",
    "\n",
    "i=(1,2,3,4,5)\n",
    "\n",
    "j=list(i)\n",
    "\n",
    "print(j)\n",
    "\n",
    "\n"
   ]
  },
  {
   "cell_type": "code",
   "execution_count": 83,
   "id": "4188ad80",
   "metadata": {},
   "outputs": [
    {
     "name": "stdout",
     "output_type": "stream",
     "text": [
      "[1, 2, 3, 4]\n",
      "[1, 2, 3]\n"
     ]
    },
    {
     "data": {
      "text/plain": [
       "[12, 2]"
      ]
     },
     "execution_count": 83,
     "metadata": {},
     "output_type": "execute_result"
    }
   ],
   "source": [
    "# How do you distinguish between copy.copy() and copy.deepcopy()?\n",
    "\n",
    "# if we do copy orignal variable not be change.\n",
    "# if we don deep.copy orignal variable will change also.\n",
    "\n",
    "\n",
    "l=[1,2,3,4]\n",
    "\n",
    "print(l)\n",
    "\n",
    "m=l.copy()\n",
    "m.pop()\n",
    "print(m)\n",
    "\n",
    "l=[12,2,34]\n",
    "\n",
    "n=l\n",
    "\n",
    "n.pop()\n",
    "\n",
    "l"
   ]
  },
  {
   "cell_type": "code",
   "execution_count": null,
   "id": "340cec34",
   "metadata": {},
   "outputs": [],
   "source": []
  }
 ],
 "metadata": {
  "kernelspec": {
   "display_name": "Python 3 (ipykernel)",
   "language": "python",
   "name": "python3"
  },
  "language_info": {
   "codemirror_mode": {
    "name": "ipython",
    "version": 3
   },
   "file_extension": ".py",
   "mimetype": "text/x-python",
   "name": "python",
   "nbconvert_exporter": "python",
   "pygments_lexer": "ipython3",
   "version": "3.9.7"
  }
 },
 "nbformat": 4,
 "nbformat_minor": 5
}
